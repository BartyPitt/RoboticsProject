{
 "cells": [
  {
   "cell_type": "code",
   "execution_count": 4,
   "metadata": {},
   "outputs": [],
   "source": [
    "def valuesGenerator(a , b):\n",
    "    chars = \"abcdefgh\"\n",
    "    value1 = chars.find(a)\n",
    "    value2 = chars.find(b)\n",
    "    Numbers = [0.02,0.035,0.56,0.75,0.89,0.91,0.95,0.99]\n",
    "    return [ a + b , [Numbers[value2] - Numbers[value1]]]"
   ]
  },
  {
   "cell_type": "code",
   "execution_count": 9,
   "metadata": {},
   "outputs": [
    {
     "name": "stdout",
     "output_type": "stream",
     "text": [
      "[['aa', [0.0]], ['ab', [-0.015000000000000003]], ['ac', [-0.54]], ['ad', [-0.73]], ['ae', [-0.87]], ['af', [-0.89]], ['ag', [-0.9299999999999999]], ['ah', [-0.97]], ['ba', [0.015000000000000003]], ['bb', [0.0]], ['bc', [-0.525]], ['bd', [-0.715]], ['be', [-0.855]], ['bf', [-0.875]], ['bg', [-0.9149999999999999]], ['bh', [-0.955]], ['ca', [0.54]], ['cb', [0.525]], ['cc', [0.0]], ['cd', [-0.18999999999999995]], ['ce', [-0.32999999999999996]], ['cf', [-0.35]], ['cg', [-0.3899999999999999]], ['ch', [-0.42999999999999994]], ['da', [0.73]], ['db', [0.715]], ['dc', [0.18999999999999995]], ['dd', [0.0]], ['de', [-0.14]], ['df', [-0.16000000000000003]], ['dg', [-0.19999999999999996]], ['dh', [-0.24]], ['ea', [0.87]], ['eb', [0.855]], ['ec', [0.32999999999999996]], ['ed', [0.14]], ['ee', [0.0]], ['ef', [-0.020000000000000018]], ['eg', [-0.05999999999999994]], ['eh', [-0.09999999999999998]], ['fa', [0.89]], ['fb', [0.875]], ['fc', [0.35]], ['fd', [0.16000000000000003]], ['fe', [0.020000000000000018]], ['ff', [0.0]], ['fg', [-0.039999999999999925]], ['fh', [-0.07999999999999996]], ['ga', [0.9299999999999999]], ['gb', [0.9149999999999999]], ['gc', [0.3899999999999999]], ['gd', [0.19999999999999996]], ['ge', [0.05999999999999994]], ['gf', [0.039999999999999925]], ['gg', [0.0]], ['gh', [-0.040000000000000036]], ['ha', [0.97]], ['hb', [0.955]], ['hc', [0.42999999999999994]], ['hd', [0.24]], ['he', [0.09999999999999998]], ['hf', [0.07999999999999996]], ['hg', [0.040000000000000036]], ['hh', [0.0]]]\n"
     ]
    }
   ],
   "source": [
    "char = \"abcdefgh\"\n",
    "outputList = [valuesGenerator(char[x],char[y]) for x in range(8) for y in range(8)]\n",
    "print(outputList)"
   ]
  },
  {
   "cell_type": "code",
   "execution_count": null,
   "metadata": {},
   "outputs": [],
   "source": []
  }
 ],
 "metadata": {
  "kernelspec": {
   "display_name": "Python 3",
   "language": "python",
   "name": "python3"
  },
  "language_info": {
   "codemirror_mode": {
    "name": "ipython",
    "version": 3
   },
   "file_extension": ".py",
   "mimetype": "text/x-python",
   "name": "python",
   "nbconvert_exporter": "python",
   "pygments_lexer": "ipython3",
   "version": "3.7.3"
  }
 },
 "nbformat": 4,
 "nbformat_minor": 2
}
