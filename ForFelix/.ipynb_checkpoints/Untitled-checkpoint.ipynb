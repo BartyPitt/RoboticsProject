{
 "cells": [
  {
   "cell_type": "code",
   "execution_count": 45,
   "metadata": {},
   "outputs": [],
   "source": [
    "from random import randint\n",
    "import numpy as np\n",
    "from collections import deque"
   ]
  },
  {
   "cell_type": "code",
   "execution_count": 42,
   "metadata": {},
   "outputs": [],
   "source": [
    "NumberOfRows = 6\n",
    "NumberOfCols = 7\n",
    "\n",
    "Turns = 24\n",
    "\n",
    "\n",
    "def GenGrid():\n",
    "    state = 1\n",
    "    InGrid = [[i , []] for i in range(NumberOfCols)]\n",
    "\n",
    "    for turn in range(Turns):\n",
    "        while True:\n",
    "            col = randint(0,NumberOfCols - 1)\n",
    "            if len(InGrid[col][1]) >= NumberOfRows:\n",
    "                pass\n",
    "            else:\n",
    "                InGrid[col][1].append(state)\n",
    "                state *= -1\n",
    "            break\n",
    "    return InGrid\n"
   ]
  },
  {
   "cell_type": "code",
   "execution_count": 46,
   "metadata": {},
   "outputs": [
    {
     "name": "stdout",
     "output_type": "stream",
     "text": [
      "[[0, [-1, 1, -1, -1]], [1, [1, 1, -1, -1]], [2, [1, 1]], [3, [1, -1, -1, 1]], [4, [1, -1, 1, -1, -1]], [5, [-1]], [6, [1, 1, -1, 1]]]\n"
     ]
    }
   ],
   "source": [
    "print(GenGrid())"
   ]
  },
  {
   "cell_type": "code",
   "execution_count": 108,
   "metadata": {},
   "outputs": [
    {
     "name": "stdout",
     "output_type": "stream",
     "text": [
      "[5, 5, 1, 5, 0, 5, 0, 2, 0, 2, 5, 0, 5, 6, 3, 6, 3, 6, 3, 6, 3, 3, 3]\n"
     ]
    }
   ],
   "source": [
    "def Deconstruct(TestGrid):\n",
    "    #print(TestGrid)\n",
    "    NumberOfTurns = sum( len(x) for _ ,x in TestGrid)\n",
    "    state = -1\n",
    "    output = []\n",
    "    for i in range(NumberOfTurns):\n",
    "        state = state * -1\n",
    "        TestGrid = sorted(TestGrid , key = lambda x : sum(x[1]) * state , reverse = False) #basically orders by where it is least likely to find a point\n",
    "        for Col in range(0,len(TestGrid), 1):\n",
    "            #print(Col, TestGrid[Col][1], state)\n",
    "            try:\n",
    "                if TestGrid[Col][1][-1] == state:\n",
    "                    del(TestGrid[Col][1][-1])\n",
    "                    output.append(TestGrid[Col][0])\n",
    "                    break\n",
    "            except IndexError:\n",
    "                continue\n",
    "        else:\n",
    "            print(\"Failed\")\n",
    "            break\n",
    "    return output\n",
    "        \n",
    "            \n",
    "    \n",
    "print(Deconstruct(GenGrid()))"
   ]
  },
  {
   "cell_type": "code",
   "execution_count": 110,
   "metadata": {},
   "outputs": [
    {
     "name": "stdout",
     "output_type": "stream",
     "text": [
      "Failed\n",
      "Failed\n",
      "Failed\n",
      "Failed\n",
      "Failed\n",
      "Failed\n",
      "Failed\n",
      "Failed\n",
      "Failed\n",
      "Failed\n"
     ]
    }
   ],
   "source": [
    "for i in range(100):\n",
    "    Deconstruct(GenGrid())"
   ]
  },
  {
   "cell_type": "code",
   "execution_count": 71,
   "metadata": {},
   "outputs": [
    {
     "name": "stdout",
     "output_type": "stream",
     "text": [
      "yes\n"
     ]
    }
   ],
   "source": [
    "for i in range(5):\n",
    "    if i == 6:\n",
    "        break\n",
    "    else:\n",
    "        continue\n",
    "else:\n",
    "    print(\"yes\")\n",
    "    "
   ]
  },
  {
   "cell_type": "code",
   "execution_count": null,
   "metadata": {},
   "outputs": [],
   "source": []
  }
 ],
 "metadata": {
  "kernelspec": {
   "display_name": "Python 3",
   "language": "python",
   "name": "python3"
  },
  "language_info": {
   "codemirror_mode": {
    "name": "ipython",
    "version": 3
   },
   "file_extension": ".py",
   "mimetype": "text/x-python",
   "name": "python",
   "nbconvert_exporter": "python",
   "pygments_lexer": "ipython3",
   "version": "3.7.3"
  }
 },
 "nbformat": 4,
 "nbformat_minor": 2
}
