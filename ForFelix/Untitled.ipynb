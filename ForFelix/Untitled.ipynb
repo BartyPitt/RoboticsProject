{
 "cells": [
  {
   "cell_type": "code",
   "execution_count": 5,
   "metadata": {},
   "outputs": [],
   "source": [
    "from random import randint\n",
    "import numpy as np\n",
    "from collections import deque"
   ]
  },
  {
   "cell_type": "code",
   "execution_count": 6,
   "metadata": {},
   "outputs": [],
   "source": [
    "NumberOfRows = 6\n",
    "NumberOfCols = 7\n",
    "\n",
    "Turns = 24\n",
    "\n",
    "\n",
    "def GenGrid():\n",
    "    state = 1\n",
    "    InGrid = [[i , []] for i in range(NumberOfCols)]\n",
    "\n",
    "    for turn in range(Turns):\n",
    "        while True:\n",
    "            col = randint(0,NumberOfCols - 1)\n",
    "            if len(InGrid[col][1]) >= NumberOfRows:\n",
    "                pass\n",
    "            else:\n",
    "                InGrid[col][1].append(state)\n",
    "                state *= -1\n",
    "            break\n",
    "    return InGrid\n"
   ]
  },
  {
   "cell_type": "code",
   "execution_count": 7,
   "metadata": {},
   "outputs": [
    {
     "name": "stdout",
     "output_type": "stream",
     "text": [
      "[[0, [1, -1, -1]], [1, [1, -1, 1, 1]], [2, [1, 1, -1, -1, -1]], [3, [-1, 1]], [4, [-1, 1]], [5, [-1, 1, 1, -1]], [6, [1, -1, 1, -1]]]\n"
     ]
    }
   ],
   "source": [
    "print(GenGrid())"
   ]
  },
  {
   "cell_type": "code",
   "execution_count": 15,
   "metadata": {},
   "outputs": [
    {
     "name": "stdout",
     "output_type": "stream",
     "text": [
      "10\n",
      "3\n"
     ]
    },
    {
     "ename": "ValueError",
     "evalue": "not enough values to unpack (expected 2, got 1)",
     "output_type": "error",
     "traceback": [
      "\u001b[0;31m---------------------------------------------------------------------------\u001b[0m",
      "\u001b[0;31mValueError\u001b[0m                                Traceback (most recent call last)",
      "\u001b[0;32m<ipython-input-15-bdc80bd4a8ff>\u001b[0m in \u001b[0;36m<module>\u001b[0;34m\u001b[0m\n\u001b[1;32m     38\u001b[0m \u001b[0;34m\u001b[0m\u001b[0m\n\u001b[1;32m     39\u001b[0m \u001b[0;34m\u001b[0m\u001b[0m\n\u001b[0;32m---> 40\u001b[0;31m \u001b[0mprint\u001b[0m\u001b[0;34m(\u001b[0m\u001b[0mDeconstruct\u001b[0m\u001b[0;34m(\u001b[0m\u001b[0mGenGrid\u001b[0m\u001b[0;34m(\u001b[0m\u001b[0;34m)\u001b[0m\u001b[0;34m)\u001b[0m\u001b[0;34m)\u001b[0m\u001b[0;34m\u001b[0m\u001b[0;34m\u001b[0m\u001b[0m\n\u001b[0m",
      "\u001b[0;32m<ipython-input-15-bdc80bd4a8ff>\u001b[0m in \u001b[0;36mDeconstruct\u001b[0;34m(TestGrid)\u001b[0m\n\u001b[1;32m      9\u001b[0m         \u001b[0mminimum\u001b[0m \u001b[0;34m=\u001b[0m \u001b[0;34m[\u001b[0m\u001b[0;36m11\u001b[0m\u001b[0;34m,\u001b[0m\u001b[0;36m0\u001b[0m\u001b[0;34m]\u001b[0m\u001b[0;34m\u001b[0m\u001b[0;34m\u001b[0m\u001b[0m\n\u001b[1;32m     10\u001b[0m         \u001b[0;32mfor\u001b[0m \u001b[0mCol\u001b[0m \u001b[0;32min\u001b[0m \u001b[0mTestGrid\u001b[0m\u001b[0;34m:\u001b[0m\u001b[0;34m\u001b[0m\u001b[0;34m\u001b[0m\u001b[0m\n\u001b[0;32m---> 11\u001b[0;31m             \u001b[0mTemp\u001b[0m \u001b[0;34m=\u001b[0m \u001b[0mColScore\u001b[0m\u001b[0;34m(\u001b[0m\u001b[0mCol\u001b[0m\u001b[0;34m,\u001b[0m\u001b[0mstate\u001b[0m\u001b[0;34m)\u001b[0m\u001b[0;34m\u001b[0m\u001b[0;34m\u001b[0m\u001b[0m\n\u001b[0m\u001b[1;32m     12\u001b[0m             \u001b[0;32mif\u001b[0m \u001b[0mTemp\u001b[0m \u001b[0;32mand\u001b[0m \u001b[0mTemp\u001b[0m \u001b[0;34m<\u001b[0m \u001b[0mminimum\u001b[0m\u001b[0;34m[\u001b[0m\u001b[0;36m0\u001b[0m\u001b[0;34m]\u001b[0m\u001b[0;34m:\u001b[0m\u001b[0;34m\u001b[0m\u001b[0;34m\u001b[0m\u001b[0m\n\u001b[1;32m     13\u001b[0m                 \u001b[0mprint\u001b[0m\u001b[0;34m(\u001b[0m\u001b[0mTemp\u001b[0m\u001b[0;34m)\u001b[0m\u001b[0;34m\u001b[0m\u001b[0;34m\u001b[0m\u001b[0m\n",
      "\u001b[0;32m<ipython-input-15-bdc80bd4a8ff>\u001b[0m in \u001b[0;36mColScore\u001b[0;34m(Col, DesiredState)\u001b[0m\n\u001b[1;32m     24\u001b[0m \u001b[0;34m\u001b[0m\u001b[0m\n\u001b[1;32m     25\u001b[0m \u001b[0;32mdef\u001b[0m \u001b[0mColScore\u001b[0m\u001b[0;34m(\u001b[0m\u001b[0mCol\u001b[0m\u001b[0;34m,\u001b[0m\u001b[0mDesiredState\u001b[0m\u001b[0;34m)\u001b[0m\u001b[0;34m:\u001b[0m \u001b[0;31m#basically find the column that has the opposite state closest to the top. ie a b b b will score 3 a b will score 1.\u001b[0m\u001b[0;34m\u001b[0m\u001b[0;34m\u001b[0m\u001b[0m\n\u001b[0;32m---> 26\u001b[0;31m     \u001b[0m_\u001b[0m \u001b[0;34m,\u001b[0m \u001b[0mCol\u001b[0m \u001b[0;34m=\u001b[0m \u001b[0mCol\u001b[0m\u001b[0;34m\u001b[0m\u001b[0;34m\u001b[0m\u001b[0m\n\u001b[0m\u001b[1;32m     27\u001b[0m     \u001b[0;32mtry\u001b[0m\u001b[0;34m:\u001b[0m\u001b[0;34m\u001b[0m\u001b[0;34m\u001b[0m\u001b[0m\n\u001b[1;32m     28\u001b[0m         \u001b[0;32mif\u001b[0m \u001b[0mCol\u001b[0m\u001b[0;34m[\u001b[0m\u001b[0;34m-\u001b[0m\u001b[0;36m1\u001b[0m\u001b[0;34m]\u001b[0m \u001b[0;34m!=\u001b[0m \u001b[0mDesiredState\u001b[0m\u001b[0;34m:\u001b[0m\u001b[0;34m\u001b[0m\u001b[0;34m\u001b[0m\u001b[0m\n",
      "\u001b[0;31mValueError\u001b[0m: not enough values to unpack (expected 2, got 1)"
     ]
    }
   ],
   "source": [
    "def Deconstruct(TestGrid):\n",
    "    #print(TestGrid)\n",
    "    NumberOfTurns = sum( len(x) for _ ,x in TestGrid)\n",
    "    state = -1\n",
    "    output = []\n",
    "    for i in range(NumberOfTurns):\n",
    "        state = state * -1\n",
    "        #ok so we need to find the line with the smallest number of its type of state. Lets start with one.\n",
    "        minimum = [11,0]\n",
    "        for Col in TestGrid:\n",
    "            Temp = ColScore(Col,state)\n",
    "            if Temp and Temp < minimum[0]:\n",
    "                print(Temp)\n",
    "                minimum = [Temp , Col[0]]\n",
    "        if minimum[0] == 11:\n",
    "            print(\"Failed\")\n",
    "            break\n",
    "        else:\n",
    "            del(TestGrid[minimum[1]][-1])\n",
    "            output.append(minimum[1])\n",
    "            \n",
    "        \n",
    "    return output\n",
    "        \n",
    "def ColScore(Col,DesiredState): #basically find the column that has the opposite state closest to the top. ie a b b b will score 3 a b will score 1. \n",
    "    _ , Col = Col\n",
    "    try:\n",
    "        if Col[-1] != DesiredState:\n",
    "            return False\n",
    "        for i in range(len(Col)):\n",
    "            if Col[-i] != DesiredState:\n",
    "                return i\n",
    "    except IndexError:\n",
    "        return 10\n",
    "    return 10\n",
    "    \n",
    "    \n",
    "    \n",
    "    \n",
    "print(Deconstruct(GenGrid()))"
   ]
  },
  {
   "cell_type": "code",
   "execution_count": 110,
   "metadata": {},
   "outputs": [
    {
     "name": "stdout",
     "output_type": "stream",
     "text": [
      "Failed\n",
      "Failed\n",
      "Failed\n",
      "Failed\n",
      "Failed\n",
      "Failed\n",
      "Failed\n",
      "Failed\n",
      "Failed\n",
      "Failed\n"
     ]
    }
   ],
   "source": [
    "for i in range(100):\n",
    "    Deconstruct(GenGrid())"
   ]
  },
  {
   "cell_type": "code",
   "execution_count": 71,
   "metadata": {},
   "outputs": [
    {
     "name": "stdout",
     "output_type": "stream",
     "text": [
      "yes\n"
     ]
    }
   ],
   "source": [
    "for i in range(5):\n",
    "    if i == 6:\n",
    "        break\n",
    "    else:\n",
    "        continue\n",
    "else:\n",
    "    print(\"yes\")\n",
    "    "
   ]
  },
  {
   "cell_type": "code",
   "execution_count": 2,
   "metadata": {},
   "outputs": [],
   "source": [
    "a = False\n",
    "if a:\n",
    "    print(\"yes\")"
   ]
  },
  {
   "cell_type": "code",
   "execution_count": null,
   "metadata": {},
   "outputs": [],
   "source": [
    "class Big():\n",
    "    def __init__(self,a):\n",
    "        self.a = a\n",
    "    def b()\n",
    "        "
   ]
  }
 ],
 "metadata": {
  "kernelspec": {
   "display_name": "Python 3",
   "language": "python",
   "name": "python3"
  },
  "language_info": {
   "codemirror_mode": {
    "name": "ipython",
    "version": 3
   },
   "file_extension": ".py",
   "mimetype": "text/x-python",
   "name": "python",
   "nbconvert_exporter": "python",
   "pygments_lexer": "ipython3",
   "version": "3.7.3"
  }
 },
 "nbformat": 4,
 "nbformat_minor": 2
}
