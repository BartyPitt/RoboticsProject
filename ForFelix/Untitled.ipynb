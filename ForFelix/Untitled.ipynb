{
 "cells": [
  {
   "cell_type": "code",
   "execution_count": 25,
   "metadata": {},
   "outputs": [],
   "source": [
    "from random import randint\n",
    "import numpy as np\n",
    "from collections import deque\n",
    "from copy import deepcopy"
   ]
  },
  {
   "cell_type": "code",
   "execution_count": 26,
   "metadata": {},
   "outputs": [],
   "source": [
    "NumberOfRows = 6\n",
    "NumberOfCols = 7\n",
    "\n",
    "Turns = 24\n",
    "\n",
    "\n",
    "def GenGrid():\n",
    "    state = 1\n",
    "    InGrid = [[i , []] for i in range(NumberOfCols)]\n",
    "\n",
    "    for turn in range(Turns):\n",
    "        while True:\n",
    "            col = randint(0,NumberOfCols - 1)\n",
    "            if len(InGrid[col][1]) >= NumberOfRows:\n",
    "                pass\n",
    "            else:\n",
    "                InGrid[col][1].append(state)\n",
    "                state *= -1\n",
    "            break\n",
    "    return InGrid\n"
   ]
  },
  {
   "cell_type": "code",
   "execution_count": 27,
   "metadata": {},
   "outputs": [
    {
     "name": "stdout",
     "output_type": "stream",
     "text": [
      "[[0, [-1]], [1, [1, 1, 1]], [2, [-1, 1, -1, 1]], [3, [-1, 1]], [4, [-1, -1, 1, -1, 1, -1]], [5, [1, 1, -1, 1, -1]], [6, [1, -1]]]\n"
     ]
    }
   ],
   "source": [
    "print(GenGrid())"
   ]
  },
  {
   "cell_type": "code",
   "execution_count": 38,
   "metadata": {},
   "outputs": [
    {
     "name": "stdout",
     "output_type": "stream",
     "text": [
      "[6, 0, 2, 5, 2, 5, 2, 2, 4, 2, 4, 5, 4, 5, 5, 3, 4, 3, 4, 4, 0, 5, 2, 6]\n"
     ]
    }
   ],
   "source": [
    "def Deconstruct(TestGrid):\n",
    "    ExaminGrid = deepcopy(TestGrid)\n",
    "    #print(TestGrid)\n",
    "    NumberOfTurns = sum( len(x) for _ ,x in TestGrid)\n",
    "    if NumberOfTurns%2 == 0:\n",
    "        state = 1\n",
    "    else:\n",
    "        state = -1\n",
    "    output = []\n",
    "    for i in range(NumberOfTurns):\n",
    "        state = state * -1\n",
    "        #ok so we need to find the line with the smallest number of its type of state. Lets start with one.\n",
    "        minimum = [11,0]\n",
    "        for Col in TestGrid:\n",
    "            Temp = ColScore(Col,state)\n",
    "            if Temp and Temp < minimum[0]:\n",
    "                minimum = [Temp , Col[0]]\n",
    "        if minimum[0] == 11:\n",
    "            print(\"Failed\")\n",
    "            print(TestGrid)\n",
    "            print(ExaminGrid)\n",
    "            break\n",
    "        else:\n",
    "            del(TestGrid[minimum[1]][1][-1])\n",
    "            output.append(minimum[1])\n",
    "            \n",
    "        \n",
    "    return output\n",
    "        \n",
    "def ColScore(Col,DesiredState): #basically find the column that has the opposite state closest to the top. ie a b b b will score 3 a b will score 1. \n",
    "    _, Col = Col\n",
    "    if len(Col) <= 0:\n",
    "        return False\n",
    "    if Col[-1] != DesiredState:\n",
    "        return False\n",
    "    for i in range(len(Col)):\n",
    "        i += 1\n",
    "        if Col[-i] != DesiredState:\n",
    "            return i\n",
    "    return 10\n",
    "            \n",
    "        \n",
    "    \n",
    "    \n",
    "    \n",
    "    \n",
    "print(Deconstruct(GenGrid()))"
   ]
  },
  {
   "cell_type": "code",
   "execution_count": 40,
   "metadata": {},
   "outputs": [
    {
     "name": "stdout",
     "output_type": "stream",
     "text": [
      "Failed\n",
      "[[0, []], [1, []], [2, []], [3, []], [4, []], [5, []], [6, [1, 1, -1]]]\n",
      "[[0, []], [1, [1, -1, 1, 1]], [2, [1, -1, 1]], [3, [1, -1, -1, -1]], [4, [1, -1, -1, 1, -1, 1]], [5, []], [6, [1, 1, -1, -1, -1]]]\n",
      "Failed\n",
      "[[0, []], [1, []], [2, []], [3, [-1, 1]], [4, []], [5, []], [6, []]]\n",
      "[[0, [1, -1, -1, 1, -1, 1]], [1, [1, 1, -1, -1]], [2, [1, -1]], [3, [-1, 1, 1, -1, -1, 1]], [4, [1]], [5, [1, -1]], [6, [1, -1]]]\n",
      "Failed\n",
      "[[0, []], [1, [-1, -1, -1, 1]], [2, []], [3, [1]], [4, []], [5, []], [6, [1]]]\n",
      "[[0, [-1, 1, 1, 1, -1, 1]], [1, [-1, -1, -1, 1, 1, 1]], [2, [-1]], [3, [1, -1, 1, -1]], [4, [-1, 1]], [5, []], [6, [1, -1, -1, 1]]]\n"
     ]
    }
   ],
   "source": [
    "for i in range(5000):\n",
    "    Deconstruct(GenGrid())"
   ]
  },
  {
   "cell_type": "code",
   "execution_count": 71,
   "metadata": {},
   "outputs": [
    {
     "name": "stdout",
     "output_type": "stream",
     "text": [
      "yes\n"
     ]
    }
   ],
   "source": [
    "for i in range(5):\n",
    "    if i == 6:\n",
    "        break\n",
    "    else:\n",
    "        continue\n",
    "else:\n",
    "    print(\"yes\")\n",
    "    "
   ]
  },
  {
   "cell_type": "code",
   "execution_count": 11,
   "metadata": {},
   "outputs": [
    {
     "data": {
      "text/plain": [
       "5"
      ]
     },
     "execution_count": 11,
     "metadata": {},
     "output_type": "execute_result"
    }
   ],
   "source": [
    "k = [1,2,3,4,5]\n",
    "k[-1]"
   ]
  },
  {
   "cell_type": "code",
   "execution_count": null,
   "metadata": {},
   "outputs": [],
   "source": [
    "class Big():\n",
    "    def __init__(self,a):\n",
    "        self.a = a\n",
    "    def b()\n",
    "        "
   ]
  }
 ],
 "metadata": {
  "kernelspec": {
   "display_name": "Python 3",
   "language": "python",
   "name": "python3"
  },
  "language_info": {
   "codemirror_mode": {
    "name": "ipython",
    "version": 3
   },
   "file_extension": ".py",
   "mimetype": "text/x-python",
   "name": "python",
   "nbconvert_exporter": "python",
   "pygments_lexer": "ipython3",
   "version": "3.7.3"
  }
 },
 "nbformat": 4,
 "nbformat_minor": 2
}
